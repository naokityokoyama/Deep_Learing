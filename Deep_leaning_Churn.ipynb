{
  "nbformat": 4,
  "nbformat_minor": 0,
  "metadata": {
    "colab": {
      "name": "Deep_leaning_Churn.ipynb",
      "provenance": [],
      "collapsed_sections": [],
      "authorship_tag": "ABX9TyMGJRYmi5eaHgNVqZzn7lHQ",
      "include_colab_link": true
    },
    "kernelspec": {
      "name": "python3",
      "display_name": "Python 3"
    }
  },
  "cells": [
    {
      "cell_type": "markdown",
      "metadata": {
        "id": "view-in-github",
        "colab_type": "text"
      },
      "source": [
        "<a href=\"https://colab.research.google.com/github/naokityokoyama/Deep_Learing/blob/main/Deep_leaning_Churn.ipynb\" target=\"_parent\"><img src=\"https://colab.research.google.com/assets/colab-badge.svg\" alt=\"Open In Colab\"/></a>"
      ]
    },
    {
      "cell_type": "code",
      "metadata": {
        "id": "wd3ZIh0mza47"
      },
      "source": [
        "import pandas as pd\r\n",
        "import numpy as np\r\n",
        "from sklearn.compose import ColumnTransformer\r\n",
        "from sklearn.compose import make_column_transformer\r\n",
        "from sklearn.preprocessing import OneHotEncoder, LabelEncoder\r\n",
        "from sklearn.model_selection import train_test_split\r\n",
        "from sklearn.preprocessing import StandardScaler\r\n",
        "from tensorflow.keras.models import Sequential\r\n",
        "from tensorflow.keras.layers import Dense\r\n",
        "from sklearn.metrics import confusion_matrix\r\n",
        "import seaborn as sns"
      ],
      "execution_count": 139,
      "outputs": []
    },
    {
      "cell_type": "code",
      "metadata": {
        "id": "3QMRvJlXzkfk"
      },
      "source": [
        "df = pd.read_csv('/content/Churn_Modelling.csv')"
      ],
      "execution_count": 84,
      "outputs": []
    },
    {
      "cell_type": "code",
      "metadata": {
        "colab": {
          "base_uri": "https://localhost:8080/"
        },
        "id": "yygw3zuRA1bl",
        "outputId": "1d400cbf-027c-40ee-b40d-68d697b68e9b"
      },
      "source": [
        "df.shape"
      ],
      "execution_count": 114,
      "outputs": [
        {
          "output_type": "execute_result",
          "data": {
            "text/plain": [
              "(10000, 14)"
            ]
          },
          "metadata": {
            "tags": []
          },
          "execution_count": 114
        }
      ]
    },
    {
      "cell_type": "code",
      "metadata": {
        "colab": {
          "base_uri": "https://localhost:8080/"
        },
        "id": "P8pcecdxzph8",
        "outputId": "fd2b101e-4836-4142-db27-70c3ffedaf08"
      },
      "source": [
        "df.isnull().sum()"
      ],
      "execution_count": 5,
      "outputs": [
        {
          "output_type": "execute_result",
          "data": {
            "text/plain": [
              "RowNumber          0\n",
              "CustomerId         0\n",
              "Surname            0\n",
              "CreditScore        0\n",
              "Geography          0\n",
              "Gender             0\n",
              "Age                0\n",
              "Tenure             0\n",
              "Balance            0\n",
              "NumOfProducts      0\n",
              "HasCrCard          0\n",
              "IsActiveMember     0\n",
              "EstimatedSalary    0\n",
              "Exited             0\n",
              "dtype: int64"
            ]
          },
          "metadata": {
            "tags": []
          },
          "execution_count": 5
        }
      ]
    },
    {
      "cell_type": "code",
      "metadata": {
        "colab": {
          "base_uri": "https://localhost:8080/",
          "height": 157
        },
        "id": "ZXNGkxN1zsyi",
        "outputId": "dfa9c3c5-71aa-4516-e260-4dee779019d4"
      },
      "source": [
        "df.head(3)"
      ],
      "execution_count": 34,
      "outputs": [
        {
          "output_type": "execute_result",
          "data": {
            "text/html": [
              "<div>\n",
              "<style scoped>\n",
              "    .dataframe tbody tr th:only-of-type {\n",
              "        vertical-align: middle;\n",
              "    }\n",
              "\n",
              "    .dataframe tbody tr th {\n",
              "        vertical-align: top;\n",
              "    }\n",
              "\n",
              "    .dataframe thead th {\n",
              "        text-align: right;\n",
              "    }\n",
              "</style>\n",
              "<table border=\"1\" class=\"dataframe\">\n",
              "  <thead>\n",
              "    <tr style=\"text-align: right;\">\n",
              "      <th></th>\n",
              "      <th>RowNumber</th>\n",
              "      <th>CustomerId</th>\n",
              "      <th>Surname</th>\n",
              "      <th>CreditScore</th>\n",
              "      <th>Geography</th>\n",
              "      <th>Gender</th>\n",
              "      <th>Age</th>\n",
              "      <th>Tenure</th>\n",
              "      <th>Balance</th>\n",
              "      <th>NumOfProducts</th>\n",
              "      <th>HasCrCard</th>\n",
              "      <th>IsActiveMember</th>\n",
              "      <th>EstimatedSalary</th>\n",
              "      <th>Exited</th>\n",
              "    </tr>\n",
              "  </thead>\n",
              "  <tbody>\n",
              "    <tr>\n",
              "      <th>0</th>\n",
              "      <td>1</td>\n",
              "      <td>15634602</td>\n",
              "      <td>Hargrave</td>\n",
              "      <td>619</td>\n",
              "      <td>France</td>\n",
              "      <td>Female</td>\n",
              "      <td>42</td>\n",
              "      <td>2</td>\n",
              "      <td>0.00</td>\n",
              "      <td>1</td>\n",
              "      <td>1</td>\n",
              "      <td>1</td>\n",
              "      <td>101348.88</td>\n",
              "      <td>1</td>\n",
              "    </tr>\n",
              "    <tr>\n",
              "      <th>1</th>\n",
              "      <td>2</td>\n",
              "      <td>15647311</td>\n",
              "      <td>Hill</td>\n",
              "      <td>608</td>\n",
              "      <td>Spain</td>\n",
              "      <td>Female</td>\n",
              "      <td>41</td>\n",
              "      <td>1</td>\n",
              "      <td>83807.86</td>\n",
              "      <td>1</td>\n",
              "      <td>0</td>\n",
              "      <td>1</td>\n",
              "      <td>112542.58</td>\n",
              "      <td>0</td>\n",
              "    </tr>\n",
              "    <tr>\n",
              "      <th>2</th>\n",
              "      <td>3</td>\n",
              "      <td>15619304</td>\n",
              "      <td>Onio</td>\n",
              "      <td>502</td>\n",
              "      <td>France</td>\n",
              "      <td>Female</td>\n",
              "      <td>42</td>\n",
              "      <td>8</td>\n",
              "      <td>159660.80</td>\n",
              "      <td>3</td>\n",
              "      <td>1</td>\n",
              "      <td>0</td>\n",
              "      <td>113931.57</td>\n",
              "      <td>1</td>\n",
              "    </tr>\n",
              "  </tbody>\n",
              "</table>\n",
              "</div>"
            ],
            "text/plain": [
              "   RowNumber  CustomerId   Surname  ...  IsActiveMember EstimatedSalary Exited\n",
              "0          1    15634602  Hargrave  ...               1       101348.88      1\n",
              "1          2    15647311      Hill  ...               1       112542.58      0\n",
              "2          3    15619304      Onio  ...               0       113931.57      1\n",
              "\n",
              "[3 rows x 14 columns]"
            ]
          },
          "metadata": {
            "tags": []
          },
          "execution_count": 34
        }
      ]
    },
    {
      "cell_type": "code",
      "metadata": {
        "id": "Q9CVM6avzs0_"
      },
      "source": [
        "X = df.iloc[:,3:13]\r\n",
        "y = df.iloc[:,13]"
      ],
      "execution_count": 85,
      "outputs": []
    },
    {
      "cell_type": "code",
      "metadata": {
        "id": "A-mQs-DJ03Zo"
      },
      "source": [
        "le = LabelEncoder()\r\n",
        "\r\n",
        "X.iloc[:,1] = le.fit_transform(X.iloc[:,1])\r\n",
        "X.iloc[:,2] = le.fit_transform(X.iloc[:,2])"
      ],
      "execution_count": 86,
      "outputs": []
    },
    {
      "cell_type": "code",
      "metadata": {
        "id": "rQmhlWm07bFC"
      },
      "source": [
        "pais = pd.get_dummies(X['Geography'])"
      ],
      "execution_count": 91,
      "outputs": []
    },
    {
      "cell_type": "code",
      "metadata": {
        "id": "7exsYlqt-XSK"
      },
      "source": [
        "X = pd.concat([pais, X], axis=1)"
      ],
      "execution_count": 95,
      "outputs": []
    },
    {
      "cell_type": "code",
      "metadata": {
        "id": "oPQ7ybSV8HFm"
      },
      "source": [
        "X = X.drop('Geography', axis=1)"
      ],
      "execution_count": 97,
      "outputs": []
    },
    {
      "cell_type": "code",
      "metadata": {
        "id": "wfQQ959l--FD"
      },
      "source": [
        "X_train, X_test, y_train,y_test = train_test_split(X,y, test_size=0.2, random_state=0)"
      ],
      "execution_count": 103,
      "outputs": []
    },
    {
      "cell_type": "code",
      "metadata": {
        "id": "q-0LIDeW_dWB"
      },
      "source": [
        "sc = StandardScaler()"
      ],
      "execution_count": 104,
      "outputs": []
    },
    {
      "cell_type": "code",
      "metadata": {
        "id": "vYkdv5pP_gU5"
      },
      "source": [
        "X_train = sc.fit_transform(X_train)\r\n",
        "X_test = sc.fit_transform(X_test)"
      ],
      "execution_count": 106,
      "outputs": []
    },
    {
      "cell_type": "code",
      "metadata": {
        "id": "tXKzXNhv_qmm"
      },
      "source": [
        "#rede neural (12+1/2 = 6)\r\n",
        "\r\n",
        "classificador = Sequential()\r\n",
        "classificador.add(Dense(units=6, kernel_initializer='uniform', activation='relu', input_dim=12))\r\n",
        "classificador.add(Dense(units=6, kernel_initializer='uniform', activation='relu'))\r\n",
        "classificador.add(Dense(units=1, kernel_initializer= 'uniform' , activation='sigmoid'))\r\n",
        "\r\n",
        "classificador.compile(optimizer='adam', loss='binary_crossentropy', metrics='accuracy')"
      ],
      "execution_count": 124,
      "outputs": []
    },
    {
      "cell_type": "code",
      "metadata": {
        "colab": {
          "base_uri": "https://localhost:8080/"
        },
        "id": "JvV7mXr0Zyjx",
        "outputId": "00a3af72-c146-46b5-ba16-af56ba1abfb6"
      },
      "source": [
        "classificador.fit(X_train, y_train, epochs=100, batch_size=10)"
      ],
      "execution_count": 125,
      "outputs": [
        {
          "output_type": "stream",
          "text": [
            "Epoch 1/100\n",
            "800/800 [==============================] - 1s 928us/step - loss: 0.5646 - accuracy: 0.7981\n",
            "Epoch 2/100\n",
            "800/800 [==============================] - 1s 955us/step - loss: 0.4416 - accuracy: 0.7883\n",
            "Epoch 3/100\n",
            "800/800 [==============================] - 1s 937us/step - loss: 0.4262 - accuracy: 0.7952\n",
            "Epoch 4/100\n",
            "800/800 [==============================] - 1s 984us/step - loss: 0.4199 - accuracy: 0.8006\n",
            "Epoch 5/100\n",
            "800/800 [==============================] - 1s 972us/step - loss: 0.4169 - accuracy: 0.8194\n",
            "Epoch 6/100\n",
            "800/800 [==============================] - 1s 990us/step - loss: 0.4168 - accuracy: 0.8246\n",
            "Epoch 7/100\n",
            "800/800 [==============================] - 1s 912us/step - loss: 0.4184 - accuracy: 0.8255\n",
            "Epoch 8/100\n",
            "800/800 [==============================] - 1s 964us/step - loss: 0.4112 - accuracy: 0.8323\n",
            "Epoch 9/100\n",
            "800/800 [==============================] - 1s 986us/step - loss: 0.4190 - accuracy: 0.8340\n",
            "Epoch 10/100\n",
            "800/800 [==============================] - 1s 1ms/step - loss: 0.4185 - accuracy: 0.8338\n",
            "Epoch 11/100\n",
            "800/800 [==============================] - 1s 984us/step - loss: 0.4095 - accuracy: 0.8343\n",
            "Epoch 12/100\n",
            "800/800 [==============================] - 1s 958us/step - loss: 0.4046 - accuracy: 0.8373\n",
            "Epoch 13/100\n",
            "800/800 [==============================] - 1s 978us/step - loss: 0.4055 - accuracy: 0.8355\n",
            "Epoch 14/100\n",
            "800/800 [==============================] - 1s 990us/step - loss: 0.4104 - accuracy: 0.8383\n",
            "Epoch 15/100\n",
            "800/800 [==============================] - 1s 976us/step - loss: 0.4122 - accuracy: 0.8322\n",
            "Epoch 16/100\n",
            "800/800 [==============================] - 1s 1000us/step - loss: 0.4073 - accuracy: 0.8324\n",
            "Epoch 17/100\n",
            "800/800 [==============================] - 1s 988us/step - loss: 0.4024 - accuracy: 0.8366\n",
            "Epoch 18/100\n",
            "800/800 [==============================] - 1s 1ms/step - loss: 0.3970 - accuracy: 0.8425\n",
            "Epoch 19/100\n",
            "800/800 [==============================] - 1s 984us/step - loss: 0.4120 - accuracy: 0.8314\n",
            "Epoch 20/100\n",
            "800/800 [==============================] - 1s 1ms/step - loss: 0.4094 - accuracy: 0.8313\n",
            "Epoch 21/100\n",
            "800/800 [==============================] - 1s 988us/step - loss: 0.4076 - accuracy: 0.8392\n",
            "Epoch 22/100\n",
            "800/800 [==============================] - 1s 1ms/step - loss: 0.4070 - accuracy: 0.8321\n",
            "Epoch 23/100\n",
            "800/800 [==============================] - 1s 1ms/step - loss: 0.3991 - accuracy: 0.8370\n",
            "Epoch 24/100\n",
            "800/800 [==============================] - 1s 1ms/step - loss: 0.4084 - accuracy: 0.8334\n",
            "Epoch 25/100\n",
            "800/800 [==============================] - 1s 981us/step - loss: 0.4028 - accuracy: 0.8335\n",
            "Epoch 26/100\n",
            "800/800 [==============================] - 1s 990us/step - loss: 0.3968 - accuracy: 0.8385\n",
            "Epoch 27/100\n",
            "800/800 [==============================] - 1s 979us/step - loss: 0.4020 - accuracy: 0.8400\n",
            "Epoch 28/100\n",
            "800/800 [==============================] - 1s 1ms/step - loss: 0.4001 - accuracy: 0.8368\n",
            "Epoch 29/100\n",
            "800/800 [==============================] - 1s 1ms/step - loss: 0.4037 - accuracy: 0.8361\n",
            "Epoch 30/100\n",
            "800/800 [==============================] - 1s 1ms/step - loss: 0.4042 - accuracy: 0.8318\n",
            "Epoch 31/100\n",
            "800/800 [==============================] - 1s 982us/step - loss: 0.4060 - accuracy: 0.8334\n",
            "Epoch 32/100\n",
            "800/800 [==============================] - 1s 1ms/step - loss: 0.3986 - accuracy: 0.8347\n",
            "Epoch 33/100\n",
            "800/800 [==============================] - 1s 973us/step - loss: 0.4044 - accuracy: 0.8351\n",
            "Epoch 34/100\n",
            "800/800 [==============================] - 1s 991us/step - loss: 0.4001 - accuracy: 0.8369\n",
            "Epoch 35/100\n",
            "800/800 [==============================] - 1s 995us/step - loss: 0.3907 - accuracy: 0.8410\n",
            "Epoch 36/100\n",
            "800/800 [==============================] - 1s 1ms/step - loss: 0.4020 - accuracy: 0.8304\n",
            "Epoch 37/100\n",
            "800/800 [==============================] - 1s 983us/step - loss: 0.3957 - accuracy: 0.8403\n",
            "Epoch 38/100\n",
            "800/800 [==============================] - 1s 1ms/step - loss: 0.3910 - accuracy: 0.8439\n",
            "Epoch 39/100\n",
            "800/800 [==============================] - 1s 970us/step - loss: 0.4047 - accuracy: 0.8295\n",
            "Epoch 40/100\n",
            "800/800 [==============================] - 1s 1ms/step - loss: 0.3932 - accuracy: 0.8401\n",
            "Epoch 41/100\n",
            "800/800 [==============================] - 1s 983us/step - loss: 0.3992 - accuracy: 0.8380\n",
            "Epoch 42/100\n",
            "800/800 [==============================] - 1s 993us/step - loss: 0.4027 - accuracy: 0.8309\n",
            "Epoch 43/100\n",
            "800/800 [==============================] - 1s 990us/step - loss: 0.4021 - accuracy: 0.8384\n",
            "Epoch 44/100\n",
            "800/800 [==============================] - 1s 994us/step - loss: 0.4070 - accuracy: 0.8305\n",
            "Epoch 45/100\n",
            "800/800 [==============================] - 1s 988us/step - loss: 0.4046 - accuracy: 0.8340\n",
            "Epoch 46/100\n",
            "800/800 [==============================] - 1s 1ms/step - loss: 0.4065 - accuracy: 0.8303\n",
            "Epoch 47/100\n",
            "800/800 [==============================] - 1s 1ms/step - loss: 0.3990 - accuracy: 0.8330\n",
            "Epoch 48/100\n",
            "800/800 [==============================] - 1s 1ms/step - loss: 0.3895 - accuracy: 0.8387\n",
            "Epoch 49/100\n",
            "800/800 [==============================] - 1s 1ms/step - loss: 0.3982 - accuracy: 0.8356\n",
            "Epoch 50/100\n",
            "800/800 [==============================] - 1s 989us/step - loss: 0.4001 - accuracy: 0.8354\n",
            "Epoch 51/100\n",
            "800/800 [==============================] - 1s 1ms/step - loss: 0.3898 - accuracy: 0.8425\n",
            "Epoch 52/100\n",
            "800/800 [==============================] - 1s 995us/step - loss: 0.3984 - accuracy: 0.8374\n",
            "Epoch 53/100\n",
            "800/800 [==============================] - 1s 1ms/step - loss: 0.3968 - accuracy: 0.8317\n",
            "Epoch 54/100\n",
            "800/800 [==============================] - 1s 1ms/step - loss: 0.4043 - accuracy: 0.8295\n",
            "Epoch 55/100\n",
            "800/800 [==============================] - 1s 995us/step - loss: 0.4035 - accuracy: 0.8321\n",
            "Epoch 56/100\n",
            "800/800 [==============================] - 1s 1ms/step - loss: 0.4002 - accuracy: 0.8374\n",
            "Epoch 57/100\n",
            "800/800 [==============================] - 1s 1ms/step - loss: 0.4028 - accuracy: 0.8266\n",
            "Epoch 58/100\n",
            "800/800 [==============================] - 1s 1ms/step - loss: 0.3955 - accuracy: 0.8364\n",
            "Epoch 59/100\n",
            "800/800 [==============================] - 1s 1ms/step - loss: 0.3922 - accuracy: 0.8379\n",
            "Epoch 60/100\n",
            "800/800 [==============================] - 1s 1ms/step - loss: 0.3927 - accuracy: 0.8373\n",
            "Epoch 61/100\n",
            "800/800 [==============================] - 1s 1ms/step - loss: 0.3903 - accuracy: 0.8365\n",
            "Epoch 62/100\n",
            "800/800 [==============================] - 1s 1ms/step - loss: 0.3929 - accuracy: 0.8356\n",
            "Epoch 63/100\n",
            "800/800 [==============================] - 1s 1ms/step - loss: 0.3932 - accuracy: 0.8359\n",
            "Epoch 64/100\n",
            "800/800 [==============================] - 1s 1ms/step - loss: 0.3885 - accuracy: 0.8418\n",
            "Epoch 65/100\n",
            "800/800 [==============================] - 1s 990us/step - loss: 0.3952 - accuracy: 0.8337\n",
            "Epoch 66/100\n",
            "800/800 [==============================] - 1s 1ms/step - loss: 0.4056 - accuracy: 0.8251\n",
            "Epoch 67/100\n",
            "800/800 [==============================] - 1s 1000us/step - loss: 0.3939 - accuracy: 0.8353\n",
            "Epoch 68/100\n",
            "800/800 [==============================] - 1s 992us/step - loss: 0.4007 - accuracy: 0.8347\n",
            "Epoch 69/100\n",
            "800/800 [==============================] - 1s 994us/step - loss: 0.3967 - accuracy: 0.8343\n",
            "Epoch 70/100\n",
            "800/800 [==============================] - 1s 1ms/step - loss: 0.3890 - accuracy: 0.8406\n",
            "Epoch 71/100\n",
            "800/800 [==============================] - 1s 1ms/step - loss: 0.3974 - accuracy: 0.8283\n",
            "Epoch 72/100\n",
            "800/800 [==============================] - 1s 996us/step - loss: 0.3787 - accuracy: 0.8460\n",
            "Epoch 73/100\n",
            "800/800 [==============================] - 1s 993us/step - loss: 0.3954 - accuracy: 0.8306\n",
            "Epoch 74/100\n",
            "800/800 [==============================] - 1s 1ms/step - loss: 0.4018 - accuracy: 0.8292\n",
            "Epoch 75/100\n",
            "800/800 [==============================] - 1s 1ms/step - loss: 0.3913 - accuracy: 0.8332\n",
            "Epoch 76/100\n",
            "800/800 [==============================] - 1s 980us/step - loss: 0.4004 - accuracy: 0.8320\n",
            "Epoch 77/100\n",
            "800/800 [==============================] - 1s 1ms/step - loss: 0.3913 - accuracy: 0.8371\n",
            "Epoch 78/100\n",
            "800/800 [==============================] - 1s 1ms/step - loss: 0.3892 - accuracy: 0.8355\n",
            "Epoch 79/100\n",
            "800/800 [==============================] - 1s 1ms/step - loss: 0.3912 - accuracy: 0.8353\n",
            "Epoch 80/100\n",
            "800/800 [==============================] - 1s 1ms/step - loss: 0.3996 - accuracy: 0.8326\n",
            "Epoch 81/100\n",
            "800/800 [==============================] - 1s 1ms/step - loss: 0.3897 - accuracy: 0.8349\n",
            "Epoch 82/100\n",
            "800/800 [==============================] - 1s 1ms/step - loss: 0.3956 - accuracy: 0.8366\n",
            "Epoch 83/100\n",
            "800/800 [==============================] - 1s 1ms/step - loss: 0.3979 - accuracy: 0.8321\n",
            "Epoch 84/100\n",
            "800/800 [==============================] - 1s 1ms/step - loss: 0.3940 - accuracy: 0.8377\n",
            "Epoch 85/100\n",
            "800/800 [==============================] - 1s 1ms/step - loss: 0.3920 - accuracy: 0.8394\n",
            "Epoch 86/100\n",
            "800/800 [==============================] - 1s 983us/step - loss: 0.3963 - accuracy: 0.8367\n",
            "Epoch 87/100\n",
            "800/800 [==============================] - 1s 1ms/step - loss: 0.3958 - accuracy: 0.8357\n",
            "Epoch 88/100\n",
            "800/800 [==============================] - 1s 1ms/step - loss: 0.3975 - accuracy: 0.8360\n",
            "Epoch 89/100\n",
            "800/800 [==============================] - 1s 1ms/step - loss: 0.3959 - accuracy: 0.8351\n",
            "Epoch 90/100\n",
            "800/800 [==============================] - 1s 999us/step - loss: 0.3920 - accuracy: 0.8354\n",
            "Epoch 91/100\n",
            "800/800 [==============================] - 1s 1ms/step - loss: 0.4000 - accuracy: 0.8317\n",
            "Epoch 92/100\n",
            "800/800 [==============================] - 1s 995us/step - loss: 0.3982 - accuracy: 0.8366\n",
            "Epoch 93/100\n",
            "800/800 [==============================] - 1s 1ms/step - loss: 0.3950 - accuracy: 0.8354\n",
            "Epoch 94/100\n",
            "800/800 [==============================] - 1s 1ms/step - loss: 0.3837 - accuracy: 0.8397\n",
            "Epoch 95/100\n",
            "800/800 [==============================] - 1s 1ms/step - loss: 0.4087 - accuracy: 0.8346\n",
            "Epoch 96/100\n",
            "800/800 [==============================] - 1s 1ms/step - loss: 0.3909 - accuracy: 0.8368\n",
            "Epoch 97/100\n",
            "800/800 [==============================] - 1s 978us/step - loss: 0.3922 - accuracy: 0.8364\n",
            "Epoch 98/100\n",
            "800/800 [==============================] - 1s 1ms/step - loss: 0.3962 - accuracy: 0.8367\n",
            "Epoch 99/100\n",
            "800/800 [==============================] - 1s 1ms/step - loss: 0.3965 - accuracy: 0.8349\n",
            "Epoch 100/100\n",
            "800/800 [==============================] - 1s 1ms/step - loss: 0.4026 - accuracy: 0.8357\n"
          ],
          "name": "stdout"
        },
        {
          "output_type": "execute_result",
          "data": {
            "text/plain": [
              "<tensorflow.python.keras.callbacks.History at 0x7fbc0beee630>"
            ]
          },
          "metadata": {
            "tags": []
          },
          "execution_count": 125
        }
      ]
    },
    {
      "cell_type": "code",
      "metadata": {
        "colab": {
          "base_uri": "https://localhost:8080/"
        },
        "id": "3s0Gus42Zw60",
        "outputId": "8d8bc96e-5dd0-439c-c267-0a6600fd2b02"
      },
      "source": [
        "classificador.evaluate(X_test, y_test)"
      ],
      "execution_count": 126,
      "outputs": [
        {
          "output_type": "stream",
          "text": [
            "63/63 [==============================] - 0s 943us/step - loss: 0.3964 - accuracy: 0.8395\n"
          ],
          "name": "stdout"
        },
        {
          "output_type": "execute_result",
          "data": {
            "text/plain": [
              "[0.39640891551971436, 0.8395000100135803]"
            ]
          },
          "metadata": {
            "tags": []
          },
          "execution_count": 126
        }
      ]
    },
    {
      "cell_type": "code",
      "metadata": {
        "colab": {
          "base_uri": "https://localhost:8080/",
          "height": 406
        },
        "id": "PyAEQhu0ZUX7",
        "outputId": "924d44ab-b768-4254-87e1-89744378a6e9"
      },
      "source": [
        "y_pred = classificador.predict(X_test)\r\n",
        "pd.DataFrame(y_pred, columns=['%'])"
      ],
      "execution_count": 137,
      "outputs": [
        {
          "output_type": "execute_result",
          "data": {
            "text/html": [
              "<div>\n",
              "<style scoped>\n",
              "    .dataframe tbody tr th:only-of-type {\n",
              "        vertical-align: middle;\n",
              "    }\n",
              "\n",
              "    .dataframe tbody tr th {\n",
              "        vertical-align: top;\n",
              "    }\n",
              "\n",
              "    .dataframe thead th {\n",
              "        text-align: right;\n",
              "    }\n",
              "</style>\n",
              "<table border=\"1\" class=\"dataframe\">\n",
              "  <thead>\n",
              "    <tr style=\"text-align: right;\">\n",
              "      <th></th>\n",
              "      <th>%</th>\n",
              "    </tr>\n",
              "  </thead>\n",
              "  <tbody>\n",
              "    <tr>\n",
              "      <th>0</th>\n",
              "      <td>0.170636</td>\n",
              "    </tr>\n",
              "    <tr>\n",
              "      <th>1</th>\n",
              "      <td>0.286866</td>\n",
              "    </tr>\n",
              "    <tr>\n",
              "      <th>2</th>\n",
              "      <td>0.149720</td>\n",
              "    </tr>\n",
              "    <tr>\n",
              "      <th>3</th>\n",
              "      <td>0.038204</td>\n",
              "    </tr>\n",
              "    <tr>\n",
              "      <th>4</th>\n",
              "      <td>0.148708</td>\n",
              "    </tr>\n",
              "    <tr>\n",
              "      <th>...</th>\n",
              "      <td>...</td>\n",
              "    </tr>\n",
              "    <tr>\n",
              "      <th>1995</th>\n",
              "      <td>0.048430</td>\n",
              "    </tr>\n",
              "    <tr>\n",
              "      <th>1996</th>\n",
              "      <td>0.096550</td>\n",
              "    </tr>\n",
              "    <tr>\n",
              "      <th>1997</th>\n",
              "      <td>0.191467</td>\n",
              "    </tr>\n",
              "    <tr>\n",
              "      <th>1998</th>\n",
              "      <td>0.104334</td>\n",
              "    </tr>\n",
              "    <tr>\n",
              "      <th>1999</th>\n",
              "      <td>0.157604</td>\n",
              "    </tr>\n",
              "  </tbody>\n",
              "</table>\n",
              "<p>2000 rows × 1 columns</p>\n",
              "</div>"
            ],
            "text/plain": [
              "             %\n",
              "0     0.170636\n",
              "1     0.286866\n",
              "2     0.149720\n",
              "3     0.038204\n",
              "4     0.148708\n",
              "...        ...\n",
              "1995  0.048430\n",
              "1996  0.096550\n",
              "1997  0.191467\n",
              "1998  0.104334\n",
              "1999  0.157604\n",
              "\n",
              "[2000 rows x 1 columns]"
            ]
          },
          "metadata": {
            "tags": []
          },
          "execution_count": 137
        }
      ]
    },
    {
      "cell_type": "code",
      "metadata": {
        "colab": {
          "base_uri": "https://localhost:8080/"
        },
        "id": "3x2FktjJbn2j",
        "outputId": "148f95af-e212-48f4-cd11-001480bce57a"
      },
      "source": [
        "cm = confusion_matrix(y_test, y_pred.round())\r\n",
        "cm"
      ],
      "execution_count": 155,
      "outputs": [
        {
          "output_type": "execute_result",
          "data": {
            "text/plain": [
              "array([[1560,   35],\n",
              "       [ 286,  119]])"
            ]
          },
          "metadata": {
            "tags": []
          },
          "execution_count": 155
        }
      ]
    },
    {
      "cell_type": "code",
      "metadata": {
        "colab": {
          "base_uri": "https://localhost:8080/",
          "height": 282
        },
        "id": "QF3_zmfLcMl8",
        "outputId": "5f8e4774-c1e8-4299-e7e9-745511333d6a"
      },
      "source": [
        "sns.heatmap(cm, annot=True, fmt='g', cmap='Blues')"
      ],
      "execution_count": 164,
      "outputs": [
        {
          "output_type": "execute_result",
          "data": {
            "text/plain": [
              "<matplotlib.axes._subplots.AxesSubplot at 0x7fbc0a63ab70>"
            ]
          },
          "metadata": {
            "tags": []
          },
          "execution_count": 164
        },
        {
          "output_type": "display_data",
          "data": {
            "image/png": "[encoded data removed]",
            "text/plain": [
              "<Figure size 432x288 with 2 Axes>"
            ]
          },
          "metadata": {
            "tags": [],
            "needs_background": "light"
          }
        }
      ]
    }
  ]
}