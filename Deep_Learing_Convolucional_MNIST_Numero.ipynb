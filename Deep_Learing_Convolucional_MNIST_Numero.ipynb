{
  "nbformat": 4,
  "nbformat_minor": 0,
  "metadata": {
    "colab": {
      "name": "Deep_Learing_Convolucional_MNIST_Numero.ipynb",
      "provenance": [],
      "collapsed_sections": [],
      "authorship_tag": "ABX9TyPRqeSTtctu3g6R3DjgYyBa",
      "include_colab_link": true
    },
    "kernelspec": {
      "name": "python3",
      "display_name": "Python 3"
    }
  },
  "cells": [
    {
      "cell_type": "markdown",
      "metadata": {
        "id": "view-in-github",
        "colab_type": "text"
      },
      "source": [
        "<a href=\"https://colab.research.google.com/github/naokityokoyama/Deep_Learing/blob/main/Deep_Learing_Convolucional_MNIST_Numero.ipynb\" target=\"_parent\"><img src=\"https://colab.research.google.com/assets/colab-badge.svg\" alt=\"Open In Colab\"/></a>"
      ]
    },
    {
      "cell_type": "code",
      "metadata": {
        "id": "pxILNckjIB3y"
      },
      "source": [
        "import matplotlib.pyplot as plt\r\n",
        "from tensorflow.keras.datasets import mnist\r\n",
        "from tensorflow.keras.models import Sequential\r\n",
        "from tensorflow.keras.layers import Dense, Flatten, Dropout #4 etapa, 3 etapa\r\n",
        "from tensorflow.python.keras.utils import np_utils\r\n",
        "from tensorflow.keras.layers import Conv2D, MaxPool2D, Convolution2D  #1 etapa, 2 etapa"
      ],
      "execution_count": 50,
      "outputs": []
    },
    {
      "cell_type": "code",
      "metadata": {
        "id": "2ztYpp_uJH2E",
        "colab": {
          "base_uri": "https://localhost:8080/"
        },
        "outputId": "a8d428ae-8d20-47a1-ceae-23252a2aaa44"
      },
      "source": [
        "(X_treino, y_treino), (X_teste, y_teste) = mnist.load_data()"
      ],
      "execution_count": 2,
      "outputs": [
        {
          "output_type": "stream",
          "text": [
            "Downloading data from https://storage.googleapis.com/tensorflow/tf-keras-datasets/mnist.npz\n",
            "11493376/11490434 [==============================] - 0s 0us/step\n"
          ],
          "name": "stdout"
        }
      ]
    },
    {
      "cell_type": "code",
      "metadata": {
        "colab": {
          "base_uri": "https://localhost:8080/",
          "height": 298
        },
        "id": "rufrnQtuJXXm",
        "outputId": "9acdd1cc-d082-4907-c259-2138ffd39932"
      },
      "source": [
        "# imagem passado em gray assim ficaria 1 canal\r\n",
        "plt.imshow(X_treino[5], cmap='gray')\r\n",
        "plt.title('Classe' + str(y_treino[5]))"
      ],
      "execution_count": 3,
      "outputs": [
        {
          "output_type": "execute_result",
          "data": {
            "text/plain": [
              "Text(0.5, 1.0, 'Classe2')"
            ]
          },
          "metadata": {
            "tags": []
          },
          "execution_count": 3
        },
        {
          "output_type": "display_data",
          "data": {
            "image/png": "[encoded data removed]",
            "text/plain": [
              "<Figure size 432x288 with 1 Axes>"
            ]
          },
          "metadata": {
            "tags": [],
            "needs_background": "light"
          }
        }
      ]
    },
    {
      "cell_type": "code",
      "metadata": {
        "id": "wQUFjhtHKDAY"
      },
      "source": [
        "#converte os dados para o formato tensor flow\r\n",
        "X_treino.shape[0]\r\n",
        "X_train = X_treino.reshape(X_treino.shape[0], 28, 28, 1)  #instancias, altura, largura, 1 canal\r\n",
        "X_test = X_teste.reshape(X_teste.shape[0], 28, 28, 1) "
      ],
      "execution_count": 4,
      "outputs": []
    },
    {
      "cell_type": "code",
      "metadata": {
        "colab": {
          "base_uri": "https://localhost:8080/"
        },
        "id": "cSGHWaWwSp3J",
        "outputId": "84d7cf80-d587-4b5c-ba6b-6c63e771a89c"
      },
      "source": [
        "X_train.shape"
      ],
      "execution_count": 5,
      "outputs": [
        {
          "output_type": "execute_result",
          "data": {
            "text/plain": [
              "(60000, 28, 28, 1)"
            ]
          },
          "metadata": {
            "tags": []
          },
          "execution_count": 5
        }
      ]
    },
    {
      "cell_type": "code",
      "metadata": {
        "colab": {
          "base_uri": "https://localhost:8080/"
        },
        "id": "mC2ZNr45S5Sz",
        "outputId": "ce43700b-57da-4995-dabf-40de493f368f"
      },
      "source": [
        "#precisa converte esse type \r\n",
        "X_train.dtype"
      ],
      "execution_count": 6,
      "outputs": [
        {
          "output_type": "execute_result",
          "data": {
            "text/plain": [
              "dtype('uint8')"
            ]
          },
          "metadata": {
            "tags": []
          },
          "execution_count": 6
        }
      ]
    },
    {
      "cell_type": "code",
      "metadata": {
        "id": "USxC71fATkEW"
      },
      "source": [
        "X_train = X_train.astype('float32')\r\n",
        "X_test = X_test.astype('float32')"
      ],
      "execution_count": 7,
      "outputs": []
    },
    {
      "cell_type": "code",
      "metadata": {
        "colab": {
          "base_uri": "https://localhost:8080/"
        },
        "id": "pmPAU0Y1TxiQ",
        "outputId": "a1cad412-d443-4355-ad4c-fa69213f89ac"
      },
      "source": [
        "X_test.dtype"
      ],
      "execution_count": 8,
      "outputs": [
        {
          "output_type": "execute_result",
          "data": {
            "text/plain": [
              "dtype('float32')"
            ]
          },
          "metadata": {
            "tags": []
          },
          "execution_count": 8
        }
      ]
    },
    {
      "cell_type": "code",
      "metadata": {
        "id": "6iDYMQhAT0QZ"
      },
      "source": [
        "#escala dos valores \r\n",
        "#colocar a escala entre 0 e 1 para ficar mais rapido o processamento\r\n",
        "\r\n",
        "X_train /= 255 #rgb bit vai entre 1 e 255\r\n",
        "X_test /= 255"
      ],
      "execution_count": 9,
      "outputs": []
    },
    {
      "cell_type": "code",
      "metadata": {
        "id": "OAUfK5x2UPQH"
      },
      "source": [
        "X_train[0]"
      ],
      "execution_count": null,
      "outputs": []
    },
    {
      "cell_type": "code",
      "metadata": {
        "id": "ohdFI_80UUP-"
      },
      "source": [
        "#transforma as classes em dummy pois vamos prever 10 classes (0 a 9)\r\n",
        "\r\n",
        "y_train = np_utils.to_categorical(y_treino, 10) # 10 é o numero de classes\r\n",
        "y_test = np_utils.to_categorical(y_teste, 10)"
      ],
      "execution_count": 11,
      "outputs": []
    },
    {
      "cell_type": "code",
      "metadata": {
        "colab": {
          "base_uri": "https://localhost:8080/"
        },
        "id": "aidCId1bU2bU",
        "outputId": "2870e7e6-cf28-47cb-bb74-cc1eeba41d71"
      },
      "source": [
        "y_train[0] , y_treino[0]"
      ],
      "execution_count": 12,
      "outputs": [
        {
          "output_type": "execute_result",
          "data": {
            "text/plain": [
              "(array([0., 0., 0., 0., 0., 1., 0., 0., 0., 0.], dtype=float32), 5)"
            ]
          },
          "metadata": {
            "tags": []
          },
          "execution_count": 12
        }
      ]
    },
    {
      "cell_type": "code",
      "metadata": {
        "colab": {
          "base_uri": "https://localhost:8080/"
        },
        "id": "sUmjQi-SWdvd",
        "outputId": "bbaee3c3-83b9-4ec9-fe9f-ea1e3aac08a8"
      },
      "source": [
        "#rede Neural\r\n",
        "#32 é um valor para altear os kernels (uma boa pratica é 64 mas aqui passamos 32)\r\n",
        "classificador = Sequential()\r\n",
        "classificador.add(Conv2D(32, (3,3), input_shape=(28,28,1), activation='relu'))\r\n",
        "classificador.add(MaxPool2D(pool_size=(2,2)))\r\n",
        "classificador.add(Flatten())\r\n",
        "classificador.add(Dense(units=128, activation='relu'))\r\n",
        "classificador.add(Dense(units=10, activation='softmax'))\r\n",
        "\r\n",
        "classificador.compile(loss='categorical_crossentropy', optimizer='adam', metrics='accuracy')\r\n",
        "\r\n",
        "classificador.fit(X_train, y_train, epochs=5, batch_size=128, validation_data=(X_test, y_test))"
      ],
      "execution_count": 46,
      "outputs": [
        {
          "output_type": "stream",
          "text": [
            "Epoch 1/5\n",
            "469/469 [==============================] - 27s 56ms/step - loss: 0.4434 - accuracy: 0.8775 - val_loss: 0.0739 - val_accuracy: 0.9772\n",
            "Epoch 2/5\n",
            "469/469 [==============================] - 26s 55ms/step - loss: 0.0712 - accuracy: 0.9788 - val_loss: 0.0524 - val_accuracy: 0.9824\n",
            "Epoch 3/5\n",
            "469/469 [==============================] - 26s 55ms/step - loss: 0.0493 - accuracy: 0.9851 - val_loss: 0.0593 - val_accuracy: 0.9802\n",
            "Epoch 4/5\n",
            "469/469 [==============================] - 26s 55ms/step - loss: 0.0349 - accuracy: 0.9901 - val_loss: 0.0530 - val_accuracy: 0.9829\n",
            "Epoch 5/5\n",
            "469/469 [==============================] - 26s 55ms/step - loss: 0.0259 - accuracy: 0.9924 - val_loss: 0.0466 - val_accuracy: 0.9855\n"
          ],
          "name": "stdout"
        },
        {
          "output_type": "execute_result",
          "data": {
            "text/plain": [
              "<tensorflow.python.keras.callbacks.History at 0x7fcdc9e457b8>"
            ]
          },
          "metadata": {
            "tags": []
          },
          "execution_count": 46
        }
      ]
    },
    {
      "cell_type": "code",
      "metadata": {
        "colab": {
          "base_uri": "https://localhost:8080/"
        },
        "id": "E_-tKufSc1GD",
        "outputId": "3586f2e1-2419-470c-af16-868f8f430767"
      },
      "source": [
        "resultado = classificador.evaluate(X_test, y_test)"
      ],
      "execution_count": 48,
      "outputs": [
        {
          "output_type": "stream",
          "text": [
            "313/313 [==============================] - 2s 6ms/step - loss: 0.0466 - accuracy: 0.9855\n"
          ],
          "name": "stdout"
        }
      ]
    },
    {
      "cell_type": "markdown",
      "metadata": {
        "id": "cupqtLGTdOWH"
      },
      "source": [
        "### Melhorias"
      ]
    },
    {
      "cell_type": "code",
      "metadata": {
        "id": "4zZSRPkOdMev"
      },
      "source": [
        "#melhorias # 2 camadas de convolução (o flatten só pode passar 1x pois ele achata a entrad)\r\n",
        "from tensorflow.python.keras.layers.normalization import BatchNormalization"
      ],
      "execution_count": 49,
      "outputs": []
    },
    {
      "cell_type": "code",
      "metadata": {
        "colab": {
          "base_uri": "https://localhost:8080/"
        },
        "id": "18KFqVnjeG1T",
        "outputId": "ece0ca67-a1d3-452c-ea36-32a302598827"
      },
      "source": [
        "classificador = Sequential()\r\n",
        "\r\n",
        "classificador.add(Conv2D(32, (3,3), input_shape=(28,28,1), activation='relu'))\r\n",
        "classificador.add(BatchNormalization()) # normalizando os numeros na camada de convolução\r\n",
        "classificador.add(MaxPool2D(pool_size=(2,2)))\r\n",
        "#classificador.add(Flatten())\r\n",
        "\r\n",
        "classificador.add(Conv2D(32, (3,3), activation='relu'))\r\n",
        "classificador.add(BatchNormalization())\r\n",
        "classificador.add(MaxPool2D(pool_size=(2,2)))\r\n",
        "classificador.add(Flatten())\r\n",
        "\r\n",
        "classificador.add(Dense(units=128, activation='relu'))\r\n",
        "classificador.add(Dropout(0.2))\r\n",
        "classificador.add(Dense(units=128, activation='relu'))\r\n",
        "classificador.add(Dropout(0.2))\r\n",
        "classificador.add(Dense(units=10, activation='softmax'))\r\n",
        "\r\n",
        "classificador.compile(loss='categorical_crossentropy', optimizer='adam', metrics='accuracy')\r\n",
        "\r\n",
        "classificador.fit(X_train, y_train, epochs=5, batch_size=128, validation_data=(X_test, y_test))"
      ],
      "execution_count": 56,
      "outputs": [
        {
          "output_type": "stream",
          "text": [
            "Epoch 1/5\n",
            "469/469 [==============================] - 54s 113ms/step - loss: 0.4688 - accuracy: 0.8512 - val_loss: 0.1411 - val_accuracy: 0.9617\n",
            "Epoch 2/5\n",
            "469/469 [==============================] - 53s 113ms/step - loss: 0.0675 - accuracy: 0.9795 - val_loss: 0.0476 - val_accuracy: 0.9857\n",
            "Epoch 3/5\n",
            "469/469 [==============================] - 53s 113ms/step - loss: 0.0444 - accuracy: 0.9863 - val_loss: 0.0332 - val_accuracy: 0.9900\n",
            "Epoch 4/5\n",
            "469/469 [==============================] - 53s 114ms/step - loss: 0.0354 - accuracy: 0.9901 - val_loss: 0.0450 - val_accuracy: 0.9868\n",
            "Epoch 5/5\n",
            "469/469 [==============================] - 53s 112ms/step - loss: 0.0286 - accuracy: 0.9906 - val_loss: 0.0368 - val_accuracy: 0.9903\n"
          ],
          "name": "stdout"
        },
        {
          "output_type": "execute_result",
          "data": {
            "text/plain": [
              "<tensorflow.python.keras.callbacks.History at 0x7fcdc76a81d0>"
            ]
          },
          "metadata": {
            "tags": []
          },
          "execution_count": 56
        }
      ]
    }
  ]
}